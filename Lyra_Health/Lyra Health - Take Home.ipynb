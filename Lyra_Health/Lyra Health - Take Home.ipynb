{
 "cells": [
  {
   "cell_type": "markdown",
   "metadata": {},
   "source": [
    "## Problem Statement\n",
    "\n",
    "How does geography correlate with other data attributes, such as provider density, provider specialties, or costs?"
   ]
  },
  {
   "cell_type": "code",
   "execution_count": 170,
   "metadata": {},
   "outputs": [
    {
     "name": "stdout",
     "output_type": "stream",
     "text": [
      "Once deleted, variables cannot be recovered. Proceed (y/[n])? y\n"
     ]
    }
   ],
   "source": [
    "%reset"
   ]
  },
  {
   "cell_type": "markdown",
   "metadata": {},
   "source": [
    "## Import Libraries"
   ]
  },
  {
   "cell_type": "code",
   "execution_count": 171,
   "metadata": {},
   "outputs": [],
   "source": [
    "import pandas as pd\n",
    "import matplotlib.pyplot as plt"
   ]
  },
  {
   "cell_type": "markdown",
   "metadata": {},
   "source": [
    "## Importing and Cleaning Dataset"
   ]
  },
  {
   "cell_type": "markdown",
   "metadata": {},
   "source": [
    "### Medicare Provider Dataset\n",
    "\n",
    "This dataset contains the overall drug utilization (claims, 30-day standardized fill counts and day’s supply), drug costs, and beneficiary counts organized by National Provider Identifier. Drug utilization, drug costs, and beneficiary counts are also included for each of the following sub group classifications:\n",
    "* Beneficiaries age 65 and older\n",
    "* Brand drugs, generic drugs, and other drugs\n",
    "* Medicare Advantage Prescription Drug (MAPD) and stand-alone Prescription Drug Plans (PDP)\n",
    "* Low-income subsidy (LIS) and no low-income subsidy (nonLIS)\n",
    "* Opioids, long-actingopioids, antibiotics, and antipsychoticsin the elderly"
   ]
  },
  {
   "cell_type": "code",
   "execution_count": null,
   "metadata": {},
   "outputs": [],
   "source": [
    "provider = pd.read_csv('PartD_Prescriber_PUF_NPI_17.txt', sep='\\t')\n",
    "provider.head()"
   ]
  },
  {
   "cell_type": "code",
   "execution_count": 42,
   "metadata": {},
   "outputs": [
    {
     "name": "stdout",
     "output_type": "stream",
     "text": [
      "166\n"
     ]
    },
    {
     "data": {
      "text/html": [
       "<div>\n",
       "<style scoped>\n",
       "    .dataframe tbody tr th:only-of-type {\n",
       "        vertical-align: middle;\n",
       "    }\n",
       "\n",
       "    .dataframe tbody tr th {\n",
       "        vertical-align: top;\n",
       "    }\n",
       "\n",
       "    .dataframe thead th {\n",
       "        text-align: right;\n",
       "    }\n",
       "</style>\n",
       "<table border=\"1\" class=\"dataframe\">\n",
       "  <thead>\n",
       "    <tr style=\"text-align: right;\">\n",
       "      <th></th>\n",
       "      <th>nppes_provider_zip4</th>\n",
       "      <th>nppes_provider_city</th>\n",
       "      <th>nppes_provider_state</th>\n",
       "      <th>nppes_provider_country</th>\n",
       "    </tr>\n",
       "  </thead>\n",
       "  <tbody>\n",
       "    <tr>\n",
       "      <th>3675</th>\n",
       "      <td>NaN</td>\n",
       "      <td>WATERLOO</td>\n",
       "      <td>ZZ</td>\n",
       "      <td>CA</td>\n",
       "    </tr>\n",
       "    <tr>\n",
       "      <th>12358</th>\n",
       "      <td>3.0</td>\n",
       "      <td>SHANGHAI</td>\n",
       "      <td>ZZ</td>\n",
       "      <td>CN</td>\n",
       "    </tr>\n",
       "    <tr>\n",
       "      <th>19753</th>\n",
       "      <td>NaN</td>\n",
       "      <td>FPO AE</td>\n",
       "      <td>ZZ</td>\n",
       "      <td>ES</td>\n",
       "    </tr>\n",
       "    <tr>\n",
       "      <th>22320</th>\n",
       "      <td>NaN</td>\n",
       "      <td>APO</td>\n",
       "      <td>ZZ</td>\n",
       "      <td>DE</td>\n",
       "    </tr>\n",
       "    <tr>\n",
       "      <th>24980</th>\n",
       "      <td>NaN</td>\n",
       "      <td>LANCASTER</td>\n",
       "      <td>ZZ</td>\n",
       "      <td>AA</td>\n",
       "    </tr>\n",
       "  </tbody>\n",
       "</table>\n",
       "</div>"
      ],
      "text/plain": [
       "       nppes_provider_zip4 nppes_provider_city nppes_provider_state  \\\n",
       "3675                   NaN            WATERLOO                   ZZ   \n",
       "12358                  3.0            SHANGHAI                   ZZ   \n",
       "19753                  NaN              FPO AE                   ZZ   \n",
       "22320                  NaN                 APO                   ZZ   \n",
       "24980                  NaN           LANCASTER                   ZZ   \n",
       "\n",
       "      nppes_provider_country  \n",
       "3675                      CA  \n",
       "12358                     CN  \n",
       "19753                     ES  \n",
       "22320                     DE  \n",
       "24980                     AA  "
      ]
     },
     "execution_count": 42,
     "metadata": {},
     "output_type": "execute_result"
    }
   ],
   "source": [
    "non_us = provider[provider.nppes_provider_country != 'US']\n",
    "print(len(non_us))\n",
    "non_us[['nppes_provider_zip4', 'nppes_provider_city', 'nppes_provider_state', 'nppes_provider_country']].head()"
   ]
  },
  {
   "cell_type": "code",
   "execution_count": 172,
   "metadata": {},
   "outputs": [],
   "source": [
    "us_provider = []\n",
    "\n",
    "for chunk in pd.read_csv('PartD_Prescriber_PUF_NPI_17.txt', sep='\\t', chunksize = 20000):\n",
    "    us_provider.append(chunk[chunk.nppes_provider_country == 'US'][['npi', 'nppes_provider_gender',\n",
    "       'nppes_entity_code', 'nppes_provider_city','nppes_provider_state', 'specialty_description', 'total_claim_count',\n",
    "       'total_30_day_fill_count', 'total_drug_cost', 'total_day_supply','bene_count', 'average_age_of_beneficiaries', \n",
    "       'beneficiary_age_less_65_count', 'beneficiary_age_65_74_count', 'beneficiary_age_75_84_count',\n",
    "       'beneficiary_age_greater_84_count', 'beneficiary_female_count', 'beneficiary_male_count', 'beneficiary_race_white_count',\n",
    "       'beneficiary_race_black_count', 'beneficiary_race_asian_pi_count','beneficiary_race_hispanic_count', 'beneficiary_race_nat_ind_count',\n",
    "       'beneficiary_race_other_count', 'beneficiary_nondual_count', 'beneficiary_dual_count', 'beneficiary_average_risk_score']])\n",
    "us_provider = pd.concat(us_provider)"
   ]
  },
  {
   "cell_type": "markdown",
   "metadata": {},
   "source": [
    "There seems to be 166 non-US providers included in this dataset. However, for this analysis I will focus on the overall metrics for beneficiaries and their demographics only for providers in the US. "
   ]
  },
  {
   "cell_type": "code",
   "execution_count": 145,
   "metadata": {},
   "outputs": [
    {
     "name": "stdout",
     "output_type": "stream",
     "text": [
      "<class 'pandas.core.frame.DataFrame'>\n",
      "Int64Index: 1162732 entries, 0 to 1162897\n",
      "Data columns (total 27 columns):\n",
      "npi                                 1162732 non-null int64\n",
      "nppes_provider_gender               1162729 non-null object\n",
      "nppes_entity_code                   1162732 non-null object\n",
      "nppes_provider_city                 1162732 non-null object\n",
      "nppes_provider_state                1162732 non-null object\n",
      "specialty_description               1162732 non-null object\n",
      "total_claim_count                   1162732 non-null int64\n",
      "total_30_day_fill_count             1162732 non-null float64\n",
      "total_drug_cost                     1162732 non-null float64\n",
      "total_day_supply                    1162732 non-null int64\n",
      "bene_count                          1030928 non-null float64\n",
      "average_age_of_beneficiaries        1030928 non-null float64\n",
      "beneficiary_age_less_65_count       645242 non-null float64\n",
      "beneficiary_age_65_74_count         540060 non-null float64\n",
      "beneficiary_age_75_84_count         361481 non-null float64\n",
      "beneficiary_age_greater_84_count    382501 non-null float64\n",
      "beneficiary_female_count            822194 non-null float64\n",
      "beneficiary_male_count              822194 non-null float64\n",
      "beneficiary_race_white_count        557480 non-null float64\n",
      "beneficiary_race_black_count        393899 non-null float64\n",
      "beneficiary_race_asian_pi_count     510374 non-null float64\n",
      "beneficiary_race_hispanic_count     404045 non-null float64\n",
      "beneficiary_race_nat_ind_count      841885 non-null float64\n",
      "beneficiary_race_other_count        346287 non-null float64\n",
      "beneficiary_nondual_count           683551 non-null float64\n",
      "beneficiary_dual_count              683551 non-null float64\n",
      "beneficiary_average_risk_score      1030928 non-null float64\n",
      "dtypes: float64(19), int64(3), object(5)\n",
      "memory usage: 248.4+ MB\n"
     ]
    }
   ],
   "source": [
    "# Checking the data\n",
    "us_provider = provider[provider.nppes_provider_country == 'US'][['npi', 'nppes_provider_gender',\n",
    "       'nppes_entity_code', 'nppes_provider_city','nppes_provider_state', 'specialty_description', 'total_claim_count',\n",
    "       'total_30_day_fill_count', 'total_drug_cost', 'total_day_supply','bene_count', 'average_age_of_beneficiaries', \n",
    "       'beneficiary_age_less_65_count', 'beneficiary_age_65_74_count', 'beneficiary_age_75_84_count',\n",
    "       'beneficiary_age_greater_84_count', 'beneficiary_female_count', 'beneficiary_male_count', 'beneficiary_race_white_count',\n",
    "       'beneficiary_race_black_count', 'beneficiary_race_asian_pi_count','beneficiary_race_hispanic_count', 'beneficiary_race_nat_ind_count',\n",
    "       'beneficiary_race_other_count', 'beneficiary_nondual_count', 'beneficiary_dual_count', 'beneficiary_average_risk_score']]\n",
    "us_provider.info()"
   ]
  },
  {
   "cell_type": "markdown",
   "metadata": {},
   "source": [
    "### Filling in Missing Values"
   ]
  },
  {
   "cell_type": "markdown",
   "metadata": {},
   "source": [
    "3 of the providers in the dataset are organization; therefore, it makes sense that the 'nppes_provider_gender' is missing 3 values.\n",
    "\n",
    "Most columns have null values because values fewer than 11 are suppressed and are indicated by a blank for privacy purposes. (See https://www.cms.gov/Research-Statistics-Data-and-Systems/Statistics-Trends-and-Reports/Medicare-Provider-Charge-Data/Downloads/Prescriber_Methods.pdf) \n",
    "\n",
    "Not treating these values will underestimate the true value; therefore, I will fill these suppressed values with 5. "
   ]
  },
  {
   "cell_type": "code",
   "execution_count": 173,
   "metadata": {},
   "outputs": [],
   "source": [
    "suppressed_cols = ['bene_count', 'beneficiary_age_less_65_count',\n",
    "       'beneficiary_age_65_74_count', 'beneficiary_age_75_84_count',\n",
    "       'beneficiary_age_greater_84_count', 'beneficiary_female_count',\n",
    "       'beneficiary_male_count', 'beneficiary_race_white_count',\n",
    "       'beneficiary_race_black_count', 'beneficiary_race_asian_pi_count',\n",
    "       'beneficiary_race_hispanic_count', 'beneficiary_race_nat_ind_count',\n",
    "       'beneficiary_race_other_count', 'beneficiary_nondual_count',\n",
    "       'beneficiary_dual_count']\n",
    "\n",
    "us_provider[suppressed_cols] = us_provider[suppressed_cols].fillna(5)"
   ]
  },
  {
   "cell_type": "markdown",
   "metadata": {},
   "source": [
    "As illustrated by the boxplots below of the last 2 columns, the distributions tend to be skewed. I will fill the missing values with the median since it best represents the central value."
   ]
  },
  {
   "cell_type": "code",
   "execution_count": 92,
   "metadata": {},
   "outputs": [
    {
     "data": {
      "text/plain": [
       "Index(['average_age_of_beneficiaries', 'beneficiary_average_risk_score'], dtype='object')"
      ]
     },
     "execution_count": 92,
     "metadata": {},
     "output_type": "execute_result"
    }
   ],
   "source": [
    "us_provider.columns[us_provider.isnull().any()][1:]"
   ]
  },
  {
   "cell_type": "code",
   "execution_count": 118,
   "metadata": {},
   "outputs": [
    {
     "data": {
      "image/png": "[encoded data removed]",
      "text/plain": [
       "<Figure size 432x288 with 2 Axes>"
      ]
     },
     "metadata": {
      "needs_background": "light"
     },
     "output_type": "display_data"
    }
   ],
   "source": [
    "f, (ax1, ax2) = plt.subplots(1, 2)\n",
    "us_provider.boxplot('average_age_of_beneficiaries', ax = ax1)\n",
    "us_provider.boxplot('beneficiary_average_risk_score', ax = ax2)\n",
    "plt.show()"
   ]
  },
  {
   "cell_type": "code",
   "execution_count": 174,
   "metadata": {},
   "outputs": [],
   "source": [
    "avg_cols = ['average_age_of_beneficiaries', 'beneficiary_average_risk_score']\n",
    "for col in avg_cols:\n",
    "    us_provider[col] = us_provider[col].fillna(us_provider[col].median())"
   ]
  },
  {
   "cell_type": "code",
   "execution_count": 176,
   "metadata": {
    "scrolled": false
   },
   "outputs": [
    {
     "name": "stdout",
     "output_type": "stream",
     "text": [
      "<class 'pandas.core.frame.DataFrame'>\n",
      "Int64Index: 1162732 entries, 0 to 1162897\n",
      "Data columns (total 27 columns):\n",
      "npi                                 1162732 non-null int64\n",
      "nppes_provider_gender               1162729 non-null category\n",
      "nppes_entity_code                   1162732 non-null category\n",
      "nppes_provider_city                 1162732 non-null category\n",
      "nppes_provider_state                1162732 non-null category\n",
      "specialty_description               1162732 non-null category\n",
      "total_claim_count                   1162732 non-null int64\n",
      "total_30_day_fill_count             1162732 non-null float64\n",
      "total_drug_cost                     1162732 non-null float64\n",
      "total_day_supply                    1162732 non-null int64\n",
      "bene_count                          1162732 non-null float64\n",
      "average_age_of_beneficiaries        1162732 non-null float64\n",
      "beneficiary_age_less_65_count       1162732 non-null float64\n",
      "beneficiary_age_65_74_count         1162732 non-null float64\n",
      "beneficiary_age_75_84_count         1162732 non-null float64\n",
      "beneficiary_age_greater_84_count    1162732 non-null float64\n",
      "beneficiary_female_count            1162732 non-null float64\n",
      "beneficiary_male_count              1162732 non-null float64\n",
      "beneficiary_race_white_count        1162732 non-null float64\n",
      "beneficiary_race_black_count        1162732 non-null float64\n",
      "beneficiary_race_asian_pi_count     1162732 non-null float64\n",
      "beneficiary_race_hispanic_count     1162732 non-null float64\n",
      "beneficiary_race_nat_ind_count      1162732 non-null float64\n",
      "beneficiary_race_other_count        1162732 non-null float64\n",
      "beneficiary_nondual_count           1162732 non-null float64\n",
      "beneficiary_dual_count              1162732 non-null float64\n",
      "beneficiary_average_risk_score      1162732 non-null float64\n",
      "dtypes: category(5), float64(19), int64(3)\n",
      "memory usage: 212.5 MB\n"
     ]
    }
   ],
   "source": [
    "dtypes = us_provider.dtypes\n",
    "dtypes_col = dtypes.index\n",
    "dtypes_type = [i.name for i in dtypes.values]\n",
    "column_types = dict(zip(dtypes_col, dtypes_type))\n",
    "column_types = {key:'category' if value == 'object' else value for key, value in column_types.items()}\n",
    "\n",
    "us_provider = us_provider.astype(column_types)\n",
    "us_provider.info()"
   ]
  },
  {
   "cell_type": "markdown",
   "metadata": {},
   "source": [
    "All the appropriate columns have now been filled in! To save memory space, object variables have been converted to categorical variables."
   ]
  },
  {
   "cell_type": "markdown",
   "metadata": {},
   "source": [
    "## US City Latitude Longitude Dataset\n",
    "\n",
    "To aid with geocoding the providers, I have found a dataset that has the latitude and longitude for US Cities. \n",
    "\n",
    "(Source: https://public.opendatasoft.com/explore/dataset/us-zip-code-latitude-and-longitude/table/)"
   ]
  },
  {
   "cell_type": "code",
   "execution_count": 177,
   "metadata": {},
   "outputs": [
    {
     "data": {
      "text/html": [
       "<div>\n",
       "<style scoped>\n",
       "    .dataframe tbody tr th:only-of-type {\n",
       "        vertical-align: middle;\n",
       "    }\n",
       "\n",
       "    .dataframe tbody tr th {\n",
       "        vertical-align: top;\n",
       "    }\n",
       "\n",
       "    .dataframe thead th {\n",
       "        text-align: right;\n",
       "    }\n",
       "</style>\n",
       "<table border=\"1\" class=\"dataframe\">\n",
       "  <thead>\n",
       "    <tr style=\"text-align: right;\">\n",
       "      <th></th>\n",
       "      <th>City</th>\n",
       "      <th>State</th>\n",
       "      <th>Latitude</th>\n",
       "      <th>Longitude</th>\n",
       "    </tr>\n",
       "  </thead>\n",
       "  <tbody>\n",
       "    <tr>\n",
       "      <th>0</th>\n",
       "      <td>Cove</td>\n",
       "      <td>AR</td>\n",
       "      <td>34.398483</td>\n",
       "      <td>-94.39398</td>\n",
       "    </tr>\n",
       "    <tr>\n",
       "      <th>1</th>\n",
       "      <td>Edgemont</td>\n",
       "      <td>AR</td>\n",
       "      <td>35.624351</td>\n",
       "      <td>-92.16056</td>\n",
       "    </tr>\n",
       "    <tr>\n",
       "      <th>2</th>\n",
       "      <td>Sherburn</td>\n",
       "      <td>MN</td>\n",
       "      <td>43.660847</td>\n",
       "      <td>-94.74357</td>\n",
       "    </tr>\n",
       "    <tr>\n",
       "      <th>3</th>\n",
       "      <td>Lamont</td>\n",
       "      <td>MI</td>\n",
       "      <td>43.010337</td>\n",
       "      <td>-85.89754</td>\n",
       "    </tr>\n",
       "    <tr>\n",
       "      <th>4</th>\n",
       "      <td>Richland</td>\n",
       "      <td>IA</td>\n",
       "      <td>41.194129</td>\n",
       "      <td>-91.98027</td>\n",
       "    </tr>\n",
       "  </tbody>\n",
       "</table>\n",
       "</div>"
      ],
      "text/plain": [
       "       City State   Latitude  Longitude\n",
       "0      Cove    AR  34.398483  -94.39398\n",
       "1  Edgemont    AR  35.624351  -92.16056\n",
       "2  Sherburn    MN  43.660847  -94.74357\n",
       "3    Lamont    MI  43.010337  -85.89754\n",
       "4  Richland    IA  41.194129  -91.98027"
      ]
     },
     "execution_count": 177,
     "metadata": {},
     "output_type": "execute_result"
    }
   ],
   "source": [
    "us_city = pd.read_csv('us-zip-code-latitude-and-longitude.csv', sep = ';')\n",
    "us_city = us_city[['City', 'State', 'Latitude', 'Longitude']]\n",
    "us_city.head()"
   ]
  },
  {
   "cell_type": "code",
   "execution_count": 179,
   "metadata": {},
   "outputs": [
    {
     "name": "stdout",
     "output_type": "stream",
     "text": [
      "<class 'pandas.core.frame.DataFrame'>\n",
      "RangeIndex: 43191 entries, 0 to 43190\n",
      "Data columns (total 4 columns):\n",
      "City         43191 non-null object\n",
      "State        43191 non-null object\n",
      "Latitude     43191 non-null float64\n",
      "Longitude    43191 non-null float64\n",
      "dtypes: float64(2), object(2)\n",
      "memory usage: 1.3+ MB\n"
     ]
    }
   ],
   "source": [
    "us_city.info()"
   ]
  },
  {
   "cell_type": "markdown",
   "metadata": {},
   "source": [
    "I will merge the latitude and longitude coordinates via city name and state name. The case of the name must be the same in order for the datasets to match. "
   ]
  },
  {
   "cell_type": "code",
   "execution_count": 178,
   "metadata": {},
   "outputs": [
    {
     "ename": "MemoryError",
     "evalue": "",
     "output_type": "error",
     "traceback": [
      "\u001b[1;31m---------------------------------------------------------------------------\u001b[0m",
      "\u001b[1;31mMemoryError\u001b[0m                               Traceback (most recent call last)",
      "\u001b[1;32m<ipython-input-178-82283071112f>\u001b[0m in \u001b[0;36m<module>\u001b[1;34m\u001b[0m\n\u001b[0;32m      1\u001b[0m \u001b[0mus_provider\u001b[0m\u001b[1;33m[\u001b[0m\u001b[1;34m'nppes_provider_city'\u001b[0m\u001b[1;33m]\u001b[0m \u001b[1;33m=\u001b[0m \u001b[0mus_provider\u001b[0m\u001b[1;33m.\u001b[0m\u001b[0mnppes_provider_city\u001b[0m\u001b[1;33m.\u001b[0m\u001b[0mstr\u001b[0m\u001b[1;33m.\u001b[0m\u001b[0mtitle\u001b[0m\u001b[1;33m(\u001b[0m\u001b[1;33m)\u001b[0m\u001b[1;33m\u001b[0m\u001b[1;33m\u001b[0m\u001b[0m\n\u001b[1;32m----> 2\u001b[1;33m \u001b[0mgeo_provider\u001b[0m \u001b[1;33m=\u001b[0m \u001b[0mpd\u001b[0m\u001b[1;33m.\u001b[0m\u001b[0mmerge\u001b[0m\u001b[1;33m(\u001b[0m\u001b[0mus_provider\u001b[0m\u001b[1;33m,\u001b[0m \u001b[0mus_city\u001b[0m\u001b[1;33m,\u001b[0m \u001b[0mhow\u001b[0m \u001b[1;33m=\u001b[0m \u001b[1;34m'left'\u001b[0m\u001b[1;33m,\u001b[0m \u001b[0mleft_on\u001b[0m \u001b[1;33m=\u001b[0m \u001b[1;33m[\u001b[0m\u001b[1;34m'nppes_provider_city'\u001b[0m\u001b[1;33m]\u001b[0m\u001b[1;33m,\u001b[0m \u001b[0mright_on\u001b[0m \u001b[1;33m=\u001b[0m \u001b[1;33m[\u001b[0m\u001b[1;34m'City'\u001b[0m\u001b[1;33m]\u001b[0m\u001b[1;33m)\u001b[0m\u001b[1;33m\u001b[0m\u001b[1;33m\u001b[0m\u001b[0m\n\u001b[0m\u001b[0;32m      3\u001b[0m \u001b[0mgeo_provider\u001b[0m\u001b[1;33m.\u001b[0m\u001b[0minfo\u001b[0m\u001b[1;33m(\u001b[0m\u001b[1;33m)\u001b[0m\u001b[1;33m\u001b[0m\u001b[1;33m\u001b[0m\u001b[0m\n",
      "\u001b[1;32m~\\Anaconda3\\lib\\site-packages\\pandas\\core\\reshape\\merge.py\u001b[0m in \u001b[0;36mmerge\u001b[1;34m(left, right, how, on, left_on, right_on, left_index, right_index, sort, suffixes, copy, indicator, validate)\u001b[0m\n\u001b[0;32m     46\u001b[0m                          \u001b[0mcopy\u001b[0m\u001b[1;33m=\u001b[0m\u001b[0mcopy\u001b[0m\u001b[1;33m,\u001b[0m \u001b[0mindicator\u001b[0m\u001b[1;33m=\u001b[0m\u001b[0mindicator\u001b[0m\u001b[1;33m,\u001b[0m\u001b[1;33m\u001b[0m\u001b[1;33m\u001b[0m\u001b[0m\n\u001b[0;32m     47\u001b[0m                          validate=validate)\n\u001b[1;32m---> 48\u001b[1;33m     \u001b[1;32mreturn\u001b[0m \u001b[0mop\u001b[0m\u001b[1;33m.\u001b[0m\u001b[0mget_result\u001b[0m\u001b[1;33m(\u001b[0m\u001b[1;33m)\u001b[0m\u001b[1;33m\u001b[0m\u001b[1;33m\u001b[0m\u001b[0m\n\u001b[0m\u001b[0;32m     49\u001b[0m \u001b[1;33m\u001b[0m\u001b[0m\n\u001b[0;32m     50\u001b[0m \u001b[1;33m\u001b[0m\u001b[0m\n",
      "\u001b[1;32m~\\Anaconda3\\lib\\site-packages\\pandas\\core\\reshape\\merge.py\u001b[0m in \u001b[0;36mget_result\u001b[1;34m(self)\u001b[0m\n\u001b[0;32m    558\u001b[0m             \u001b[1;33m[\u001b[0m\u001b[1;33m(\u001b[0m\u001b[0mldata\u001b[0m\u001b[1;33m,\u001b[0m \u001b[0mlindexers\u001b[0m\u001b[1;33m)\u001b[0m\u001b[1;33m,\u001b[0m \u001b[1;33m(\u001b[0m\u001b[0mrdata\u001b[0m\u001b[1;33m,\u001b[0m \u001b[0mrindexers\u001b[0m\u001b[1;33m)\u001b[0m\u001b[1;33m]\u001b[0m\u001b[1;33m,\u001b[0m\u001b[1;33m\u001b[0m\u001b[1;33m\u001b[0m\u001b[0m\n\u001b[0;32m    559\u001b[0m             \u001b[0maxes\u001b[0m\u001b[1;33m=\u001b[0m\u001b[1;33m[\u001b[0m\u001b[0mllabels\u001b[0m\u001b[1;33m.\u001b[0m\u001b[0mappend\u001b[0m\u001b[1;33m(\u001b[0m\u001b[0mrlabels\u001b[0m\u001b[1;33m)\u001b[0m\u001b[1;33m,\u001b[0m \u001b[0mjoin_index\u001b[0m\u001b[1;33m]\u001b[0m\u001b[1;33m,\u001b[0m\u001b[1;33m\u001b[0m\u001b[1;33m\u001b[0m\u001b[0m\n\u001b[1;32m--> 560\u001b[1;33m             concat_axis=0, copy=self.copy)\n\u001b[0m\u001b[0;32m    561\u001b[0m \u001b[1;33m\u001b[0m\u001b[0m\n\u001b[0;32m    562\u001b[0m         \u001b[0mtyp\u001b[0m \u001b[1;33m=\u001b[0m \u001b[0mself\u001b[0m\u001b[1;33m.\u001b[0m\u001b[0mleft\u001b[0m\u001b[1;33m.\u001b[0m\u001b[0m_constructor\u001b[0m\u001b[1;33m\u001b[0m\u001b[1;33m\u001b[0m\u001b[0m\n",
      "\u001b[1;32m~\\Anaconda3\\lib\\site-packages\\pandas\\core\\internals\\managers.py\u001b[0m in \u001b[0;36mconcatenate_block_managers\u001b[1;34m(mgrs_indexers, axes, concat_axis, copy)\u001b[0m\n\u001b[0;32m   2059\u001b[0m         \u001b[1;32melse\u001b[0m\u001b[1;33m:\u001b[0m\u001b[1;33m\u001b[0m\u001b[1;33m\u001b[0m\u001b[0m\n\u001b[0;32m   2060\u001b[0m             b = make_block(\n\u001b[1;32m-> 2061\u001b[1;33m                 \u001b[0mconcatenate_join_units\u001b[0m\u001b[1;33m(\u001b[0m\u001b[0mjoin_units\u001b[0m\u001b[1;33m,\u001b[0m \u001b[0mconcat_axis\u001b[0m\u001b[1;33m,\u001b[0m \u001b[0mcopy\u001b[0m\u001b[1;33m=\u001b[0m\u001b[0mcopy\u001b[0m\u001b[1;33m)\u001b[0m\u001b[1;33m,\u001b[0m\u001b[1;33m\u001b[0m\u001b[1;33m\u001b[0m\u001b[0m\n\u001b[0m\u001b[0;32m   2062\u001b[0m                 placement=placement)\n\u001b[0;32m   2063\u001b[0m         \u001b[0mblocks\u001b[0m\u001b[1;33m.\u001b[0m\u001b[0mappend\u001b[0m\u001b[1;33m(\u001b[0m\u001b[0mb\u001b[0m\u001b[1;33m)\u001b[0m\u001b[1;33m\u001b[0m\u001b[1;33m\u001b[0m\u001b[0m\n",
      "\u001b[1;32m~\\Anaconda3\\lib\\site-packages\\pandas\\core\\internals\\concat.py\u001b[0m in \u001b[0;36mconcatenate_join_units\u001b[1;34m(join_units, concat_axis, copy)\u001b[0m\n\u001b[0;32m    240\u001b[0m     to_concat = [ju.get_reindexed_values(empty_dtype=empty_dtype,\n\u001b[0;32m    241\u001b[0m                                          upcasted_na=upcasted_na)\n\u001b[1;32m--> 242\u001b[1;33m                  for ju in join_units]\n\u001b[0m\u001b[0;32m    243\u001b[0m \u001b[1;33m\u001b[0m\u001b[0m\n\u001b[0;32m    244\u001b[0m     \u001b[1;32mif\u001b[0m \u001b[0mlen\u001b[0m\u001b[1;33m(\u001b[0m\u001b[0mto_concat\u001b[0m\u001b[1;33m)\u001b[0m \u001b[1;33m==\u001b[0m \u001b[1;36m1\u001b[0m\u001b[1;33m:\u001b[0m\u001b[1;33m\u001b[0m\u001b[1;33m\u001b[0m\u001b[0m\n",
      "\u001b[1;32m~\\Anaconda3\\lib\\site-packages\\pandas\\core\\internals\\concat.py\u001b[0m in \u001b[0;36m<listcomp>\u001b[1;34m(.0)\u001b[0m\n\u001b[0;32m    240\u001b[0m     to_concat = [ju.get_reindexed_values(empty_dtype=empty_dtype,\n\u001b[0;32m    241\u001b[0m                                          upcasted_na=upcasted_na)\n\u001b[1;32m--> 242\u001b[1;33m                  for ju in join_units]\n\u001b[0m\u001b[0;32m    243\u001b[0m \u001b[1;33m\u001b[0m\u001b[0m\n\u001b[0;32m    244\u001b[0m     \u001b[1;32mif\u001b[0m \u001b[0mlen\u001b[0m\u001b[1;33m(\u001b[0m\u001b[0mto_concat\u001b[0m\u001b[1;33m)\u001b[0m \u001b[1;33m==\u001b[0m \u001b[1;36m1\u001b[0m\u001b[1;33m:\u001b[0m\u001b[1;33m\u001b[0m\u001b[1;33m\u001b[0m\u001b[0m\n",
      "\u001b[1;32m~\\Anaconda3\\lib\\site-packages\\pandas\\core\\internals\\concat.py\u001b[0m in \u001b[0;36mget_reindexed_values\u001b[1;34m(self, empty_dtype, upcasted_na)\u001b[0m\n\u001b[0;32m    223\u001b[0m             \u001b[1;32mfor\u001b[0m \u001b[0max\u001b[0m\u001b[1;33m,\u001b[0m \u001b[0mindexer\u001b[0m \u001b[1;32min\u001b[0m \u001b[0mself\u001b[0m\u001b[1;33m.\u001b[0m\u001b[0mindexers\u001b[0m\u001b[1;33m.\u001b[0m\u001b[0mitems\u001b[0m\u001b[1;33m(\u001b[0m\u001b[1;33m)\u001b[0m\u001b[1;33m:\u001b[0m\u001b[1;33m\u001b[0m\u001b[1;33m\u001b[0m\u001b[0m\n\u001b[0;32m    224\u001b[0m                 values = algos.take_nd(values, indexer, axis=ax,\n\u001b[1;32m--> 225\u001b[1;33m                                        fill_value=fill_value)\n\u001b[0m\u001b[0;32m    226\u001b[0m \u001b[1;33m\u001b[0m\u001b[0m\n\u001b[0;32m    227\u001b[0m         \u001b[1;32mreturn\u001b[0m \u001b[0mvalues\u001b[0m\u001b[1;33m\u001b[0m\u001b[1;33m\u001b[0m\u001b[0m\n",
      "\u001b[1;32m~\\Anaconda3\\lib\\site-packages\\pandas\\core\\algorithms.py\u001b[0m in \u001b[0;36mtake_nd\u001b[1;34m(arr, indexer, axis, out, fill_value, mask_info, allow_fill)\u001b[0m\n\u001b[0;32m   1649\u001b[0m             \u001b[0mout\u001b[0m \u001b[1;33m=\u001b[0m \u001b[0mnp\u001b[0m\u001b[1;33m.\u001b[0m\u001b[0mempty\u001b[0m\u001b[1;33m(\u001b[0m\u001b[0mout_shape\u001b[0m\u001b[1;33m,\u001b[0m \u001b[0mdtype\u001b[0m\u001b[1;33m=\u001b[0m\u001b[0mdtype\u001b[0m\u001b[1;33m,\u001b[0m \u001b[0morder\u001b[0m\u001b[1;33m=\u001b[0m\u001b[1;34m'F'\u001b[0m\u001b[1;33m)\u001b[0m\u001b[1;33m\u001b[0m\u001b[1;33m\u001b[0m\u001b[0m\n\u001b[0;32m   1650\u001b[0m         \u001b[1;32melse\u001b[0m\u001b[1;33m:\u001b[0m\u001b[1;33m\u001b[0m\u001b[1;33m\u001b[0m\u001b[0m\n\u001b[1;32m-> 1651\u001b[1;33m             \u001b[0mout\u001b[0m \u001b[1;33m=\u001b[0m \u001b[0mnp\u001b[0m\u001b[1;33m.\u001b[0m\u001b[0mempty\u001b[0m\u001b[1;33m(\u001b[0m\u001b[0mout_shape\u001b[0m\u001b[1;33m,\u001b[0m \u001b[0mdtype\u001b[0m\u001b[1;33m=\u001b[0m\u001b[0mdtype\u001b[0m\u001b[1;33m)\u001b[0m\u001b[1;33m\u001b[0m\u001b[1;33m\u001b[0m\u001b[0m\n\u001b[0m\u001b[0;32m   1652\u001b[0m \u001b[1;33m\u001b[0m\u001b[0m\n\u001b[0;32m   1653\u001b[0m     func = _get_take_nd_function(arr.ndim, arr.dtype, out.dtype, axis=axis,\n",
      "\u001b[1;31mMemoryError\u001b[0m: "
     ]
    }
   ],
   "source": [
    "us_provider['nppes_provider_city'] = us_provider.nppes_provider_city.str.title()\n",
    "geo_provider = pd.merge(us_provider, us_city, how = 'left', left_on = ['nppes_provider_city'], right_on = ['City'])\n",
    "geo_provider.info()"
   ]
  }
 ],
 "metadata": {
  "kernelspec": {
   "display_name": "Python 3",
   "language": "python",
   "name": "python3"
  },
  "language_info": {
   "codemirror_mode": {
    "name": "ipython",
    "version": 3
   },
   "file_extension": ".py",
   "mimetype": "text/x-python",
   "name": "python",
   "nbconvert_exporter": "python",
   "pygments_lexer": "ipython3",
   "version": "3.7.3"
  }
 },
 "nbformat": 4,
 "nbformat_minor": 2
}
